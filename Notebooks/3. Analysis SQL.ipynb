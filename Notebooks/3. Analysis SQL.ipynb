{
 "cells": [
  {
   "cell_type": "code",
   "execution_count": 4,
   "id": "eb863a92-39fe-453a-a4d9-005678d6ad5f",
   "metadata": {},
   "outputs": [],
   "source": [
    "import pandas as pd\n",
    "import sqlite3"
   ]
  },
  {
   "cell_type": "code",
   "execution_count": 10,
   "id": "0b83e2cf-4a8d-4f2c-b992-f1c23f924061",
   "metadata": {},
   "outputs": [],
   "source": [
    "conn = sqlite3.connect('../Data/Pokemon_analysis.sqlite')\n",
    "cur = conn.cursor()\n",
    "\n",
    "cur.execute('DROP TABLE IF EXISTs Pokedex')\n",
    "\n",
    "df = pd.read_csv(\"../Data/pokemon_clean.csv\")\n",
    "\n",
    "df.to_sql(\"Pokedex\", conn, if_exists = \"replace\", index = False)\n",
    "\n",
    "conn.close()"
   ]
  },
  {
   "cell_type": "code",
   "execution_count": null,
   "id": "b5e8c7c9-d803-48a2-af88-0a18ef541f02",
   "metadata": {},
   "outputs": [],
   "source": []
  }
 ],
 "metadata": {
  "kernelspec": {
   "display_name": "Python [conda env:base] *",
   "language": "python",
   "name": "conda-base-py"
  },
  "language_info": {
   "codemirror_mode": {
    "name": "ipython",
    "version": 3
   },
   "file_extension": ".py",
   "mimetype": "text/x-python",
   "name": "python",
   "nbconvert_exporter": "python",
   "pygments_lexer": "ipython3",
   "version": "3.12.7"
  }
 },
 "nbformat": 4,
 "nbformat_minor": 5
}
