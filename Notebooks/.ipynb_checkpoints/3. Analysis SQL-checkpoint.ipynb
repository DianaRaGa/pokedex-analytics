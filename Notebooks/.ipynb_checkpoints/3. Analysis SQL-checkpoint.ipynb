{
 "cells": [
  {
   "cell_type": "code",
   "execution_count": 8,
   "id": "eb863a92-39fe-453a-a4d9-005678d6ad5f",
   "metadata": {},
   "outputs": [],
   "source": [
    "import pandas as pd\n",
    "import sqlite3"
   ]
  },
  {
   "cell_type": "code",
   "execution_count": 9,
   "id": "0b83e2cf-4a8d-4f2c-b992-f1c23f924061",
   "metadata": {},
   "outputs": [
    {
     "data": {
      "text/plain": [
       "dex            int64\n",
       "name          object\n",
       "type_1        object\n",
       "type_2        object\n",
       "total          int64\n",
       "hp             int64\n",
       "attack         int64\n",
       "defense        int64\n",
       "sp_atk         int64\n",
       "sp_def         int64\n",
       "speed          int64\n",
       "poke_links    object\n",
       "generation     int64\n",
       "image_url     object\n",
       "dtype: object"
      ]
     },
     "execution_count": 9,
     "metadata": {},
     "output_type": "execute_result"
    }
   ],
   "source": [
    "conn = sqlite3.connect('../Data/Pokemon_analysis.sqlite')\n",
    "cur = conn.cursor()\n",
    "\n",
    "cur.execute('DROP TABLE IF EXISTs Pokedex')\n",
    "\n",
    "df = pd.read_csv(\"../Data/pokemon_clean.csv\")\n",
    "\n",
    "df.to_sql(\"Pokedex\", conn, if_exists = \"replace\", index = False)\n",
    "\n",
    "df.dtypes\n"
   ]
  },
  {
   "cell_type": "code",
   "execution_count": 19,
   "id": "78a40a22-fa90-4de7-88d0-96740dc35ce8",
   "metadata": {},
   "outputs": [
    {
     "name": "stdout",
     "output_type": "stream",
     "text": [
      "                        name  dex\n",
      "0                  Abomasnow  460\n",
      "1                       Abra   63\n",
      "2                      Absol  359\n",
      "3                   Accelgor  617\n",
      "4   Aegislash (Shield Forme)  681\n",
      "5                 Aerodactyl  142\n",
      "6                     Aggron  306\n",
      "7                      Aipom  190\n",
      "8                   Alakazam   65\n",
      "9                   Alcremie  869\n",
      "10                 Alomomola  594\n",
      "11                   Altaria  334\n",
      "12                    Amaura  698\n",
      "13                   Ambipom  424\n",
      "14                 Amoonguss  591\n",
      "15                  Ampharos  181\n",
      "16                Annihilape  979\n",
      "17                   Anorith  347\n",
      "18                  Appletun  842\n",
      "19                    Applin  840\n"
     ]
    }
   ],
   "source": [
    "query = \"SELECT DISTINCT name, dex FROM Pokedex ORDER BY name;\"\n",
    "df_name = pd.read_sql_query(query, conn)\n",
    "\n",
    "print(df_name[:20])"
   ]
  },
  {
   "cell_type": "code",
   "execution_count": 22,
   "id": "3f3be7f1-1c1b-4bdc-8072-7cd8a6a652db",
   "metadata": {},
   "outputs": [
    {
     "name": "stdout",
     "output_type": "stream",
     "text": [
      "      type_1\n",
      "0        Bug\n",
      "1       Dark\n",
      "2     Dragon\n",
      "3   Electric\n",
      "4      Fairy\n",
      "5   Fighting\n",
      "6       Fire\n",
      "7     Flying\n",
      "8      Ghost\n",
      "9      Grass\n",
      "10    Ground\n",
      "11       Ice\n",
      "12    Normal\n",
      "13    Poison\n",
      "14   Psychic\n",
      "15      Rock\n",
      "16     Steel\n",
      "17     Water\n"
     ]
    }
   ],
   "source": [
    "query = \"SELECT DISTINCT type_1 FROM Pokedex ORDER BY type_1;\"\n",
    "df_type_1 = pd.read_sql_query(query, conn)\n",
    "\n",
    "print(df_type_1)"
   ]
  },
  {
   "cell_type": "code",
   "execution_count": 23,
   "id": "f97041c5-0b3b-4ba7-8841-0399c9a6cef7",
   "metadata": {},
   "outputs": [
    {
     "name": "stdout",
     "output_type": "stream",
     "text": [
      "      type_2\n",
      "0       None\n",
      "1        Bug\n",
      "2       Dark\n",
      "3     Dragon\n",
      "4   Electric\n",
      "5      Fairy\n",
      "6   Fighting\n",
      "7       Fire\n",
      "8     Flying\n",
      "9      Ghost\n",
      "10     Grass\n",
      "11    Ground\n",
      "12       Ice\n",
      "13    Normal\n",
      "14    Poison\n",
      "15   Psychic\n",
      "16      Rock\n",
      "17     Steel\n",
      "18     Water\n"
     ]
    }
   ],
   "source": [
    "query = \"SELECT DISTINCT type_2 FROM Pokedex ORDER BY type_2;\"\n",
    "df_type_2 = pd.read_sql_query(query, conn)\n",
    "\n",
    "print(df_type_2)"
   ]
  },
  {
   "cell_type": "markdown",
   "id": "1302dae2-2e9c-4a91-b62a-9e628d802a97",
   "metadata": {},
   "source": [
    "## **Consistency between columns**"
   ]
  },
  {
   "cell_type": "code",
   "execution_count": 26,
   "id": "715c37b1-d89c-4dc6-95cd-6faaa2c39a94",
   "metadata": {},
   "outputs": [
    {
     "name": "stdout",
     "output_type": "stream",
     "text": [
      "Empty DataFrame\n",
      "Columns: [name, dex, COUNT(*)]\n",
      "Index: []\n"
     ]
    }
   ],
   "source": [
    "query = '''\n",
    "SELECT name, dex, COUNT(*)\n",
    "FROM Pokedex\n",
    "GROUP BY name, dex\n",
    "HAVING COUNT(*) > 1;\n",
    "'''\n",
    "df_consistency = pd.read_sql_query(query, conn)\n",
    "\n",
    "print(df_consistency)"
   ]
  },
  {
   "cell_type": "markdown",
   "id": "24eef61b-5ed7-403b-a63e-7d47377c16ca",
   "metadata": {},
   "source": [
    "## **Row count sanity check**"
   ]
  },
  {
   "cell_type": "code",
   "execution_count": 27,
   "id": "4d8ccda3-f212-4614-a683-6491c120d65e",
   "metadata": {},
   "outputs": [
    {
     "name": "stdout",
     "output_type": "stream",
     "text": [
      "   COUNT(*)\n",
      "0      1025\n"
     ]
    }
   ],
   "source": [
    "query = \"SELECT COUNT(*) FROM Pokedex;\"\n",
    "df_rowcount = pd.read_sql_query(query, conn)\n",
    "\n",
    "print(df_rowcount)"
   ]
  },
  {
   "cell_type": "markdown",
   "id": "6afe85c3-466c-40af-b39d-75246d74be5c",
   "metadata": {},
   "source": [
    "## **Cross-check derived values**"
   ]
  },
  {
   "cell_type": "code",
   "execution_count": 30,
   "id": "1c3c9708-9395-4c52-ab04-8d4622e391c2",
   "metadata": {},
   "outputs": [
    {
     "name": "stdout",
     "output_type": "stream",
     "text": [
      "Empty DataFrame\n",
      "Columns: [name, stat_sum, total]\n",
      "Index: []\n"
     ]
    }
   ],
   "source": [
    "query = '''\n",
    "SELECT name, (hp + attack + defense + sp_atk + sp_def + speed) AS stat_sum, total\n",
    "FROM Pokedex\n",
    "WHERE (hp + attack + defense + sp_atk + sp_def + speed) != total;\n",
    "'''\n",
    "df_cross_check = pd.read_sql_query(query, conn)\n",
    "\n",
    "print(df_cross_check)"
   ]
  },
  {
   "cell_type": "code",
   "execution_count": 31,
   "id": "b5e8c7c9-d803-48a2-af88-0a18ef541f02",
   "metadata": {},
   "outputs": [],
   "source": [
    "conn.close()"
   ]
  }
 ],
 "metadata": {
  "kernelspec": {
   "display_name": "Python [conda env:base] *",
   "language": "python",
   "name": "conda-base-py"
  },
  "language_info": {
   "codemirror_mode": {
    "name": "ipython",
    "version": 3
   },
   "file_extension": ".py",
   "mimetype": "text/x-python",
   "name": "python",
   "nbconvert_exporter": "python",
   "pygments_lexer": "ipython3",
   "version": "3.12.7"
  }
 },
 "nbformat": 4,
 "nbformat_minor": 5
}
